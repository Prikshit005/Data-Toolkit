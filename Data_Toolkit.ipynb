{
  "nbformat": 4,
  "nbformat_minor": 0,
  "metadata": {
    "colab": {
      "provenance": []
    },
    "kernelspec": {
      "name": "python3",
      "display_name": "Python 3"
    },
    "language_info": {
      "name": "python"
    }
  },
  "cells": [
    {
      "cell_type": "markdown",
      "source": [
        "#Data Toolkit"
      ],
      "metadata": {
        "id": "9iwmsgoE2XTu"
      }
    },
    {
      "cell_type": "markdown",
      "source": [
        "**1.What is NumPy, and why is it widely used in Python?**\n",
        "- NumPy (short for Numerical Python) is a fundamental library for scientific computing in Python. It provides support for large, multi-dimensional arrays and matrices, along with a wide collection of mathematical functions to operate on these arrays efficiently.\n",
        "- Why It's Widely Used:\n",
        "  - **Speed & Efficiency**:\n",
        "    Operations on NumPy arrays are implemented in C and optimized for performance. Much faster than using native Python lists for numerical operations.\n",
        "\n",
        "  - **Foundation for Other Libraries**:\n",
        "    Libraries like Pandas, SciPy, scikit-learn, TensorFlow, and PyTorch rely on NumPy under the hood.\n",
        "\n",
        "  - **Convenient Syntax**:\n",
        "    Array slicing, masking, filtering, and reshaping are intuitive and concise.\n",
        "    Example: a = np.array([1, 2, 3]); a * 2 → [2, 4, 6]\n",
        "\n",
        "  - **Interoperability**:\n",
        "    Easily integrates with C/C++ and Fortran code.\n",
        "    Used to exchange data with other scientific libraries and formats.\n",
        "\n",
        "  - **Large Community and Ecosystem**:\n",
        "    Tons of resources, tutorials, and support.\n",
        "    Constantly updated and well-maintained."
      ],
      "metadata": {
        "id": "tysHqDzC2gde"
      }
    },
    {
      "cell_type": "markdown",
      "source": [
        "**2. How does broadcasting work in NumPy?**\n",
        " - Broadcasting in NumPy is a powerful feature that allows arithmetic operations to be performed on arrays of different shapes in a flexible and memory-efficient way. When NumPy encounters arrays with different shapes in an operation, it automatically stretches the smaller array across the larger one so their shapes become compatible—without actually copying data. This process follows specific rules: NumPy compares array shapes starting from the last dimension and moves leftward. If the dimensions are equal, or if one of them is 1, the operation can proceed. The dimension with size 1 is virtually \"expanded\" to match the other. If the dimensions do not match and neither is 1, the operation will raise an error. Broadcasting is especially useful for avoiding manual loops and for performing fast, vectorized operations across large datasets, making code more readable and computationally efficient."
      ],
      "metadata": {
        "id": "XIOm3jEX3b9I"
      }
    },
    {
      "cell_type": "markdown",
      "source": [
        "**3. What is a Pandas DataFrame?**\n",
        "- A Pandas DataFrame is a two-dimensional, tabular data structure in Python, similar to a spreadsheet or SQL table, that allows we to store and manipulate data in a structured and labeled format. It is one of the core data structures provided by the Pandas library and is widely used for data analysis and data manipulation tasks. A DataFrame consists of rows and columns, where each column can have a different data type (e.g., integers, floats, strings), and both rows and columns are labeled with index values. This makes it easy to access, filter, sort, and modify data using intuitive syntax. we can create a DataFrame from various data sources such as dictionaries, lists, NumPy arrays, or external files like CSVs and Excel sheets. Overall, the DataFrame is a versatile and powerful tool for working with structured data in Python."
      ],
      "metadata": {
        "id": "fBbyfa9837eN"
      }
    },
    {
      "cell_type": "markdown",
      "source": [
        "**4. Explain the use of the groupby() method in Pandas?**\n",
        "- The groupby() method in Pandas is a powerful tool used for grouping and aggregating data based on one or more columns. It allows us to split a DataFrame into groups based on the values in specific columns, perform computations on each group independently, and then combine the results. This is especially useful for summarizing data, such as calculating totals, averages, counts, or other statistics within each group. For example, we can group sales data by region to find the total sales per region. The typical process involves three steps: split, apply, and combine—Pandas splits the data into groups, applies a function (like sum(), mean(), count(), etc.) to each group, and then combines the results into a new DataFrame or Series. This method is essential for data analysis tasks where patterns, trends, or summaries need to be observed within categories or subgroups of the data."
      ],
      "metadata": {
        "id": "MRoSjJ1u4LsP"
      }
    },
    {
      "cell_type": "markdown",
      "source": [
        "**5.Why is Seaborn preferred for statistical visualizations?**\n",
        "- Seaborn is preferred for statistical visualizations in Python because it provides a high-level, user-friendly interface for creating attractive and informative graphics, particularly those that highlight relationships between variables. Built on top of Matplotlib, Seaborn simplifies complex visualizations with less code and comes with built-in support for many statistical plotting tasks, such as visualizing distributions, correlations, and categorical comparisons. It integrates tightly with Pandas DataFrames, allowing users to work seamlessly with tabular data and automatically handle things like legends, axes labels, and color encoding. Seaborn also includes built-in themes and color palettes that make plots more visually appealing by default, reducing the need for manual styling. Overall, its combination of simplicity, beauty, and powerful statistical plotting capabilities makes Seaborn a top choice for data scientists and analysts when exploring and presenting data."
      ],
      "metadata": {
        "id": "-uTb7YmS4ZiS"
      }
    },
    {
      "cell_type": "markdown",
      "source": [
        "**6. What are the differences between NumPy arrays and Python lists?**\n",
        "- NumPy arrays and Python lists are both used to store collections of data, but they differ significantly in functionality, performance, and use cases. The key differences are:\n",
        "\n",
        "  - **Performance:** NumPy arrays are much faster and more efficient than Python lists for numerical operations because they are implemented in C and optimized for performance. They allow for vectorized operations, which means operations are applied to whole arrays without explicit loops.\n",
        "\n",
        "  - **Data Type Consistency**: NumPy arrays are homogeneous, meaning all elements must be of the same data type (e.g., all integers or all floats). In contrast, Python lists are heterogeneous and can contain a mix of different data types.\n",
        "\n",
        "  - **Functionality**: NumPy arrays come with a wide range of powerful mathematical and statistical operations out of the box, such as matrix multiplication, broadcasting, and linear algebra functions. Python lists lack this functionality unless combined with loops or external libraries.\n",
        "\n",
        "  - **Memory Efficiency**: NumPy arrays use less memory compared to Python lists because of their fixed data types and compact storage. Lists are more memory-intensive due to their flexibility in storing different types.\n",
        "\n",
        "  - **Indexing and Slicing**: While both support indexing and slicing, NumPy arrays offer more advanced indexing features like boolean indexing and multi-dimensional slicing, making them better suited for complex data manipulation."
      ],
      "metadata": {
        "id": "E47Uz-CQ4lE4"
      }
    },
    {
      "cell_type": "markdown",
      "source": [
        "**7. What is a heatmap, and when should it be used?**\n",
        "- A heatmap is a data visualization technique that uses color gradients to represent the values of a matrix or 2D dataset. Each cell in the heatmap corresponds to a value, and its color indicates the magnitude or intensity of that value—usually with a spectrum ranging from cool (e.g., blue) to warm (e.g., red) colors. Heatmaps make it easy to spot patterns, correlations, and outliers in complex data at a glance.\n",
        "\n",
        " - **They are especially useful when visualizing:**\n",
        "\n",
        "   - Correlation matrices to see relationships between variables.\n",
        "\n",
        "   - Missing data patterns in datasets.\n",
        "\n",
        "   - Frequency or intensity of events across time or categories.\n",
        "\n",
        "   - Confusion matrices in machine learning to evaluate model performance."
      ],
      "metadata": {
        "id": "mnOBWrjt5VgI"
      }
    },
    {
      "cell_type": "markdown",
      "source": [
        "**8. What does the term “vectorized operation” mean in NumPy?**\n",
        "- In NumPy, the term “vectorized operation” refers to performing operations on entire arrays (vectors, matrices, etc.) without using explicit loops in Python. Instead of processing elements one by one in a for loop, NumPy applies the operation to all elements at once using highly optimized, low-level implementations in C."
      ],
      "metadata": {
        "id": "jMe0HURT5sKo"
      }
    },
    {
      "cell_type": "markdown",
      "source": [
        "**9. How does Matplotlib differ from Plotly?**\n",
        "- **Matplotlib** and **Plotly** are both popular Python libraries for data visualization, but they serve different purposes and have distinct features.\n",
        " - **Matplotlib** is primarily designed for static, 2D plots and is well-suited for creating highly customizable, publication-quality figures. It provides detailed control over every aspect of a plot, such as axes, colors, and labels, making it ideal for producing professional-grade visualizations, but it often requires more code to achieve complex layouts.\n",
        "\n",
        "  - On the other hand, **Plotly** is focused on creating interactive, web-based visualizations. It enables features like zooming, tooltips, and real-time updates by default, which makes it a better choice for applications requiring dynamic data exploration, dashboards, or web integration. Plotly's syntax is generally more user-friendly and allows for quick creation of interactive plots, though it may offer less granular control compared to Matplotlib. While Matplotlib generates static images in formats like PNG or PDF, Plotly outputs interactive HTML visualizations, making it more suited for modern data applications. Overall, the choice between the two depends on the project’s needs—Matplotlib for static, customized plots and Plotly for interactive, visually appealing web-based charts."
      ],
      "metadata": {
        "id": "UQLbGz8x55Fg"
      }
    },
    {
      "cell_type": "markdown",
      "source": [
        "**10. What is the significance of hierarchical indexing in Pandas?**\n",
        "- Hierarchical indexing in Pandas, also known as MultiIndex, allows for more advanced and flexible data organization by enabling multiple levels of indexing in a single DataFrame or Series. This means that, instead of using a single index to access rows, we can use two or more indices to organize and access data at different levels, which can be especially useful for dealing with complex datasets.\n",
        " - **Significance of Hierarchical Indexing:**\n",
        "  \n",
        "  **Efficient Data Representation**: Hierarchical indexing allows us to represent data with multiple dimensions or categories in a compact and efficient way. This is particularly useful when working with multi-dimensional datasets like time-series data with multiple levels (e.g., years, months, days).\n",
        "\n",
        " **Easy Data Access**: With hierarchical indexing, we can access subsets of data using a combination of index levels. For example, we could easily slice data based on specific levels of the index (e.g., retrieving all data for a specific year or product category), making data retrieval more intuitive and faster.\n",
        "\n",
        " **Enhanced Grouping and Aggregation**: Hierarchical indexes allow for more powerful grouping and aggregation operations. We can group data by multiple levels of the index and then apply aggregation functions, like sum, mean, or count, to obtain meaningful insights from different hierarchical levels (e.g., sales data by year and by region).\n",
        "\n",
        " **Multi-level Sorting**: Hierarchical indexing enables sorting by multiple levels, which can simplify complex sorting operations. This is especially beneficial when working with large datasets where sorting by one level isn't enough to fully organize the data.\n",
        "\n",
        " **Data Reshaping**: Hierarchical indexing makes reshaping data (e.g., pivoting or stacking/unstacking) much easier. We can perform operations like pivot tables or unstack data with multiple index levels to reorganize the data for better analysis.\n",
        "\n",
        " **Improved Handling of Missing Data**: It also helps in better handling of missing data across multiple levels, as Pandas can track missing values with the hierarchical structure in a way that’s more intuitive and manageable."
      ],
      "metadata": {
        "id": "I4gJdvSN6r8A"
      }
    },
    {
      "cell_type": "markdown",
      "source": [
        "**11. What is the role of Seaborn’s pairplot() function?**\n",
        "- The pairplot() function in Seaborn is a powerful tool for visualizing relationships between multiple numerical variables in a dataset. It creates a matrix of scatterplots, where each variable is plotted against every other variable, enabling users to quickly observe patterns, correlations, and potential outliers. The diagonal of the matrix typically shows histograms or density plots for each individual variable, providing insights into their distributions. This makes pairplot() particularly useful for exploratory data analysis, as it allows us to assess pairwise relationships across a range of features in one consolidated plot. The function is highly customizable, offering options to color the points by a categorical variable, adjust the kind of plots shown, and even apply different types of scaling. Overall, pairplot() simplifies the process of understanding complex datasets by providing an intuitive and comprehensive view of how variables interact with each other."
      ],
      "metadata": {
        "id": "QDokAFEG7VwD"
      }
    },
    {
      "cell_type": "markdown",
      "source": [
        "**12. What is the purpose of the describe() function in Pandas?**\n",
        "- The describe() function in Pandas is a convenient and powerful method used to quickly generate summary statistics of a DataFrame or Series. It provides key insights into the distribution of numerical data by calculating important statistical measures, such as the count, mean, standard deviation, minimum, maximum, and quartiles (25th, 50th, and 75th percentiles). This function is extremely useful during exploratory data analysis (EDA) as it helps in understanding the central tendency, spread, and range of the data, and can also highlight potential anomalies or outliers. By default, describe() operates on numerical columns, but it can also provide statistics for categorical data if the include='object' parameter is specified. Overall, the describe() function offers a quick overview of a dataset’s key characteristics, making it an essential tool for initial data exploration and cleaning."
      ],
      "metadata": {
        "id": "wM3s4Ai97nVW"
      }
    },
    {
      "cell_type": "markdown",
      "source": [
        "**13. Why is handling missing data important in Pandas?**\n",
        "- Handling missing data in Pandas is crucial because missing or incomplete data can lead to incorrect analysis, biased results, and errors in computations or models. In real-world datasets, missing values are common due to various reasons, such as data entry errors, system failures, or incomplete data collection processes. If missing data is not addressed, it can distort statistical analyses, affect machine learning model performance, and lead to unreliable conclusions. Pandas provides robust tools for handling missing data, such as the ability to identify, remove, or impute missing values. By properly handling missing data—whether through methods like filling in missing values with averages or medians, forward or backward filling, or removing rows/columns with excessive missing values—data integrity is maintained, and the quality of analysis and model predictions is improved. Therefore, managing missing data ensures the accuracy, reliability, and validity of data-driven decisions and results."
      ],
      "metadata": {
        "id": "KqVcdhRl76a3"
      }
    },
    {
      "cell_type": "markdown",
      "source": [
        "**14. What are the benefits of using Plotly for data visualization?**\n",
        "- Plotly offers several benefits for data visualization, making it a popular choice for creating interactive and visually appealing charts. Some key advantages include:\n",
        "\n",
        " **Interactivity**: Plotly generates interactive plots by default, allowing users to zoom, hover for tooltips, and pan, which is ideal for exploring and understanding data dynamically. This level of interactivity enhances the user experience and makes data exploration more intuitive.\n",
        "\n",
        " **Ease of Use**: Plotly provides a high-level interface that simplifies the creation of complex visualizations. It’s easier to use compared to other libraries like Matplotlib, especially for users who want to generate interactive visualizations without extensive customization.\n",
        "\n",
        " **Rich Visualizations**: Plotly supports a wide range of chart types, including basic plots (like line, bar, and scatter plots), 3D plots, geographical maps, heatmaps, and even complex visualizations like sunburst and funnel charts. This variety makes it versatile for different types of data and analytical needs.\n",
        "\n",
        " **Integration with Dash**: Plotly works seamlessly with Dash, a framework for building interactive web applications. This makes it easy to build real-time, interactive dashboards and data-driven web apps.\n",
        "\n",
        " **Web and Cloud Compatibility**: Plotly visualizations can be embedded directly into websites and shared easily. It supports exporting charts as interactive HTML files that can be viewed in any modern browser. It also offers cloud-based features for sharing and collaborating on visualizations.\n",
        "\n",
        " **Customization**: While Plotly is easier to use, it still allows for extensive customization. We can control layout, colors, titles, and axes, and make plots visually appealing with its wide range of built-in themes and styles.\n",
        "\n",
        " **Support for Multiple Platforms**: Plotly can be used in Jupyter notebooks, Python scripts, and web applications, providing flexibility across different working environments. It also supports integration with other languages like R and JavaScript, allowing for cross-language usage in different contexts.\n",
        "\n",
        " **Good for Presentations and Reporting**: The interactivity and aesthetics of Plotly plots make them well-suited for presentations, reports, and interactive data stories, where engaging the audience with real-time data exploration is valuable."
      ],
      "metadata": {
        "id": "osukZHIA8RZN"
      }
    },
    {
      "cell_type": "markdown",
      "source": [
        "**15. How does NumPy handle multidimensional arrays?**\n",
        "- NumPy handles multidimensional arrays using its core data structure, the ndarray (N-dimensional array), which allows for efficient storage and manipulation of large datasets across multiple dimensions. A multidimensional array in NumPy can have any number of dimensions, such as 2D (matrices), 3D (tensors), or higher, and is characterized by its shape, which defines the size of the array along each axis (dimension). NumPy allows for easy indexing and slicing to access elements in multidimensional arrays, using multiple indices or slices for each dimension. It also supports vectorized operations, enabling us to perform element-wise calculations across entire arrays without using explicit loops, making computations much faster. With features like broadcasting, NumPy can perform operations on arrays of different shapes by automatically aligning their dimensions, avoiding the need for manual reshaping. Additionally, NumPy provides functions for reshaping, transposing, and advanced indexing, giving users a high level of flexibility in manipulating multidimensional data. This combination of efficient memory usage, powerful operations, and ease of manipulation makes NumPy the go-to library for handling and processing multidimensional arrays in Python."
      ],
      "metadata": {
        "id": "avlzLar38xU9"
      }
    },
    {
      "cell_type": "markdown",
      "source": [
        "**16. What is the role of Bokeh in data visualization?**\n",
        "- Bokeh is a powerful and interactive data visualization library for Python that is specifically designed for creating web-based visualizations. Its primary role is to provide highly interactive, real-time, and aesthetically pleasing plots, which can be embedded in web applications or shared on the web. Bokeh is particularly well-suited for visualizing large datasets and enabling users to explore data dynamically through features like zooming, panning, and tooltips.\n",
        "One of the key strengths of Bokeh is its ability to generate interactive visualizations that are highly responsive and suitable for dashboards and web apps. Unlike static visualizations produced by libraries like Matplotlib, Bokeh allows for real-time interaction, where users can hover over points to see additional details, adjust sliders to filter data, or zoom in and out to explore different parts of the dataset.\n",
        "Bokeh also integrates well with other web technologies, like HTML, JavaScript, and CSS, and can be used alongside web frameworks like Flask and Django for building data-driven web applications. Furthermore, it offers a flexible layout system, allowing for the creation of complex, multi-plot dashboards and interactive charts."
      ],
      "metadata": {
        "id": "A3Ozyo0F9HYn"
      }
    },
    {
      "cell_type": "markdown",
      "source": [
        "**17. Explain the difference between apply() and map() in Pandas?**\n",
        "- In Pandas, both apply() and map() are used to apply functions to data, but they differ in their scope and use cases. The apply() function is more versatile and can be used with both Series and DataFrames. It allows us to apply a function either along rows or columns of a DataFrame (using the axis parameter), making it suitable for more complex operations, including aggregations or custom transformations. In contrast, map() is specifically designed for Series and is primarily used for element-wise transformations, such as replacing values or applying simple functions to each individual element. While map() is faster for element-wise operations on Series, apply() provides more flexibility and can handle more complex operations across rows or columns of a DataFrame. Essentially, map() is ideal for straightforward, element-wise transformations, whereas apply() is better for more complex, row-wise or column-wise computations."
      ],
      "metadata": {
        "id": "w9dMpfrh9Wt6"
      }
    },
    {
      "cell_type": "markdown",
      "source": [
        "**18. What are some advanced features of NumPy?**\n",
        "1. Broadcasting\n",
        "2. Vectorized Operations\n",
        "\n",
        "3. Universal Functions (ufuncs)\n",
        "\n",
        "4. Advanced Indexing and Slicing\n",
        "\n",
        "5. Linear Algebra Operations\n",
        "\n",
        "6. Random Number Generation\n",
        "\n",
        "7. Memory Views and Stride Tricks\n",
        "\n",
        "8. Multidimensional Array Handling\n",
        "\n",
        "9. Data Alignment and Missing Data Handling\n",
        "\n",
        "10. Optimized I/O with Memory-Mapped Files\n",
        "11. Compatibility with Other Libraries"
      ],
      "metadata": {
        "id": "wRB1-xgY9ksP"
      }
    },
    {
      "cell_type": "markdown",
      "source": [
        "**19. How does Pandas simplify time series analysis?**\n",
        "- Pandas simplifies time series analysis by providing a set of powerful tools specifically designed for handling time-indexed data. It allows users to easily work with datetime objects by setting a DatetimeIndex, which makes slicing, indexing, and filtering time-based data intuitive and efficient. Pandas also supports resampling, enabling users to easily change the frequency of their data (e.g., from daily to monthly), along with various aggregation functions like mean, sum, or max. With features like rolling windows for calculating moving averages, time shifting for creating lagged variables, and the ability to handle missing data through forward or backward filling, Pandas streamlines common tasks in time series analysis. Additionally, it offers simple methods for handling time zones, extracting components (like year, month, day, etc.), and visualizing time-based data using libraries like Matplotlib. These built-in functionalities make Pandas a go-to library for time series analysis, helping users efficiently manipulate, clean, and analyze temporal data."
      ],
      "metadata": {
        "id": "MDJzlSIb_Fmb"
      }
    },
    {
      "cell_type": "markdown",
      "source": [
        "**20. What is the role of a pivot table in Pandas?**\n",
        "- A pivot table in Pandas is a powerful tool for summarizing and aggregating data, enabling us to transform long-format data into a more structured, readable form. It allows us to rearrange and group data based on one or more categorical variables, making it easier to analyze relationships between variables and perform calculations on subsets of the data.\n",
        "In a pivot table, the rows and columns are defined by the variables we specify, and we can apply various aggregation functions (such as sum, mean, count, etc.) to compute values for each combination of row and column categories. This helps us to create a more compact and insightful view of the data, which is especially useful for large datasets or when we want to explore multi-dimensional relationships between variables."
      ],
      "metadata": {
        "id": "JBPCNKzU_Y0O"
      }
    },
    {
      "cell_type": "markdown",
      "source": [
        "**21. Why is NumPy’s array slicing faster than Python’s list slicing?**\n",
        "- NumPy’s array slicing is faster than Python’s list slicing primarily because NumPy arrays are stored in contiguous blocks of memory, whereas Python lists are not. When slicing a NumPy array, it returns a view on the original data, meaning no new copies are made, and the operation simply creates a reference to the original data. This is highly efficient, as it avoids the need for additional memory allocation and copying of elements. In contrast, Python lists create a new list and copy the sliced elements into it, which introduces significant overhead. Furthermore, NumPy arrays are designed for optimized performance with low-level C implementations, allowing for faster access and manipulation of data compared to Python’s list slicing, which operates in pure Python. Additionally, NumPy arrays store elements of the same data type, providing more efficient memory usage and faster access, while Python lists are heterogeneous and store references to objects, adding extra overhead for each element. These factors combined make NumPy’s slicing much faster and more memory-efficient compared to Python lists."
      ],
      "metadata": {
        "id": "DM1V6coS_kjq"
      }
    },
    {
      "cell_type": "markdown",
      "source": [
        "**22. What are some common use cases for Seaborn?**\n",
        "- Seaborn is a powerful Python library built on top of Matplotlib, designed for statistical data visualization. It provides a high-level interface for creating informative and attractive visualizations with minimal code. Here are some common use cases for Seaborn:\n",
        "1. **Visualizing Distributions**:\n",
        "Histograms and Kernel Density Estimation (KDE) plots: Seaborn is widely used to visualize the distribution of data points. The sns.histplot() function creates histograms, while sns.kdeplot() is used to generate smooth density curves. These plots help in understanding the shape, spread, and central tendencies of the data.\n",
        "Box plots and violin plots: To visualize the distribution of data across categorical variables, Seaborn provides sns.boxplot() and sns.violinplot(). These plots are particularly useful for identifying outliers, spread, and median values across groups.\n",
        "\n",
        "2. **Visualizing Relationships Between Variables**:\n",
        "Scatter plots: Seaborn’s sns.scatterplot() is commonly used to explore the relationship between two continuous variables, identifying patterns, correlations, or clusters.\n",
        "Pair plots: The sns.pairplot() function allows us to visualize pairwise relationships between multiple continuous variables. It's useful for spotting correlations, trends, or distributions across pairs of variables, and often used in exploratory data analysis (EDA).\n",
        "Heatmaps: Seaborn's sns.heatmap() is often used to visualize correlation matrices, displaying the relationships between several variables in a color-coded grid, making it easier to identify strong correlations or patterns in large datasets.\n",
        "\n",
        "3. **Categorical Data Visualization**:\n",
        "Bar plots: sns.barplot() and sns.countplot() are often used to summarize data across different categories. They display the central tendency (mean or count) for each category, helping to compare them visually.\n",
        "Facet grids: The sns.FacetGrid() function allows us to create a grid of subplots, which can be used to display the distribution of a variable across subsets of a dataset. This is useful for comparing data across different categories or groups.\n",
        "\n",
        "4. **Statistical Visualization**:\n",
        "Regression plots: The sns.regplot() and sns.lmplot() functions allow us to plot data points along with a regression line, making them ideal for visualizing relationships between variables and identifying trends or linear relationships.\n",
        "Confidence intervals: Seaborn automatically computes and displays confidence intervals in many of its plots (like sns.lineplot() or sns.regplot()), providing a sense of uncertainty or variability in the data.\n",
        "\n",
        "5. **Time Series Visualization**:\n",
        "Seaborn is useful for visualizing time series data, often through line plots. The sns.lineplot() function is commonly used to display trends over time, with automatic handling of date formatting on the x-axis. This is particularly useful for financial data, sensor data, or any data collected over time.\n",
        "\n",
        "6. **Correlation Analysis**:\n",
        "Seaborn’s heatmaps are frequently used to visualize the correlation matrix of a dataset, making it easy to identify which variables are highly correlated or independent of each other. This is especially helpful in machine learning tasks like feature selection and dimensionality reduction.\n",
        "\n",
        "7. **Customizing and Styling Visualizations**:\n",
        "Seaborn provides various options to customize visualizations, making it easier to adjust colors, labels, and themes. The built-in themes (sns.set_style(), sns.set_palette()) and color palettes make it easy to produce aesthetically pleasing visualizations, even for complex datasets.\n",
        "\n",
        "8. **Analyzing Multivariate Data**:\n",
        "Seaborn's tools, like pair plots and heatmaps, make it easier to explore and analyze multivariate data. Pair plots help examine the relationships between multiple variables, while heatmaps are perfect for visualizing interactions between multiple variables in a matrix-like format."
      ],
      "metadata": {
        "id": "KBayhk7x_xvs"
      }
    },
    {
      "cell_type": "markdown",
      "source": [
        "# Practical Questions"
      ],
      "metadata": {
        "id": "xJwKXv2HAmSq"
      }
    },
    {
      "cell_type": "markdown",
      "source": [
        "**1. How do you create a 2D NumPy array and calculate the sum of each row?**"
      ],
      "metadata": {
        "id": "RdGtozy6B6g4"
      }
    },
    {
      "cell_type": "code",
      "source": [
        "import numpy as np\n",
        "\n",
        "# Step 1: Create a 2D NumPy array\n",
        "array = np.array([[1, 2, 3],\n",
        "                  [4, 5, 6],\n",
        "                  [7, 8, 9]])\n",
        "\n",
        "# Step 2: Calculate the sum of each row\n",
        "row_sums = np.sum(array, axis=1)\n",
        "\n",
        "# Output the result\n",
        "print(\"Sum of each row:\", row_sums)\n"
      ],
      "metadata": {
        "colab": {
          "base_uri": "https://localhost:8080/"
        },
        "id": "fTIlOn8eB_br",
        "outputId": "2f49b568-e10e-45e0-89d3-f1f4ca34011b"
      },
      "execution_count": 1,
      "outputs": [
        {
          "output_type": "stream",
          "name": "stdout",
          "text": [
            "Sum of each row: [ 6 15 24]\n"
          ]
        }
      ]
    },
    {
      "cell_type": "markdown",
      "source": [
        "**2. Write a Pandas script to find the mean of a specific column in a DataFrame.**"
      ],
      "metadata": {
        "id": "9cidTk6JCMf4"
      }
    },
    {
      "cell_type": "code",
      "source": [
        "import pandas as pd\n",
        "\n",
        "data = {'Name': ['Alice', 'Bob', 'Charlie', 'David', 'Eve'],\n",
        "        'Age': [24, 27, 22, 32, 29],\n",
        "        'Salary': [50000, 60000, 55000, 65000, 70000]}\n",
        "\n",
        "df = pd.DataFrame(data)\n",
        "mean_age = df['Age'].mean()\n",
        "\n",
        "print(\"Mean Age:\", mean_age)\n",
        "\n",
        "mean_salary = df['Salary'].mean()\n",
        "\n",
        "print(\"Mean Salary:\", mean_salary)\n"
      ],
      "metadata": {
        "colab": {
          "base_uri": "https://localhost:8080/"
        },
        "id": "ams2n60XCSTA",
        "outputId": "3bf51339-daec-45ba-c2e0-2f774ba90853"
      },
      "execution_count": 2,
      "outputs": [
        {
          "output_type": "stream",
          "name": "stdout",
          "text": [
            "Mean Age: 26.8\n",
            "Mean Salary: 60000.0\n"
          ]
        }
      ]
    },
    {
      "cell_type": "markdown",
      "source": [
        "**3. Create a scatter plot using Matplotlib.**"
      ],
      "metadata": {
        "id": "SXl7_S5JCYIa"
      }
    },
    {
      "cell_type": "code",
      "source": [
        "import matplotlib.pyplot as plt\n",
        "\n",
        "x = [1, 2, 3, 4, 5]\n",
        "y = [2, 4, 6, 8, 10]\n",
        "\n",
        "plt.scatter(x, y)\n",
        "\n",
        "plt.title('Simple Scatter Plot')\n",
        "plt.xlabel('X-axis')\n",
        "plt.ylabel('Y-axis')\n",
        "\n",
        "plt.show()\n"
      ],
      "metadata": {
        "colab": {
          "base_uri": "https://localhost:8080/",
          "height": 472
        },
        "id": "RcPsauRtCdUl",
        "outputId": "f1ec2a6f-7562-4a3d-9774-627f05232e9e"
      },
      "execution_count": 3,
      "outputs": [
        {
          "output_type": "display_data",
          "data": {
            "text/plain": [
              "<Figure size 640x480 with 1 Axes>"
            ],
            "image/png": "[encoded data removed]"
          },
          "metadata": {}
        }
      ]
    },
    {
      "cell_type": "markdown",
      "source": [
        "**4. How do you calculate the correlation matrix using Seaborn and visualize it with a heatmap?**"
      ],
      "metadata": {
        "id": "HKqwN_2zClQp"
      }
    },
    {
      "cell_type": "code",
      "source": [
        "import pandas as pd\n",
        "import seaborn as sns\n",
        "import matplotlib.pyplot as plt\n",
        "\n",
        "data = {\n",
        "    'A': [1, 2, 3, 4, 5],\n",
        "    'B': [5, 4, 3, 2, 1],\n",
        "    'C': [2, 3, 4, 5, 6],\n",
        "    'D': [9, 8, 7, 6, 5]\n",
        "}\n",
        "\n",
        "df = pd.DataFrame(data)\n",
        "\n",
        "correlation_matrix = df.corr()\n",
        "\n",
        "plt.figure(figsize=(8, 6))\n",
        "sns.heatmap(correlation_matrix, annot=True, cmap='coolwarm', vmin=-1, vmax=1, linewidths=0.5)\n",
        "\n",
        "plt.title('Correlation Matrix Heatmap')\n",
        "\n",
        "plt.show()\n"
      ],
      "metadata": {
        "colab": {
          "base_uri": "https://localhost:8080/",
          "height": 545
        },
        "id": "QxJ5ojMeCun2",
        "outputId": "9d0eb981-cf6e-415c-ddf3-6808346111d1"
      },
      "execution_count": 4,
      "outputs": [
        {
          "output_type": "display_data",
          "data": {
            "text/plain": [
              "<Figure size 800x600 with 2 Axes>"
            ],
            "image/png": "[encoded data removed]"
          },
          "metadata": {}
        }
      ]
    },
    {
      "cell_type": "markdown",
      "source": [
        "**5.Generate a bar plot using Plotly.**"
      ],
      "metadata": {
        "id": "-boN8k4ZC5pI"
      }
    },
    {
      "cell_type": "code",
      "source": [
        "import plotly.express as px\n",
        "data = {\n",
        "    'Category': ['A', 'B', 'C', 'D', 'E'],\n",
        "    'Value': [10, 15, 7, 12, 5]\n",
        "}\n",
        "\n",
        "import pandas as pd\n",
        "df = pd.DataFrame(data)\n",
        "\n",
        "fig = px.bar(df, x='Category', y='Value', title='Simple Bar Plot')\n",
        "\n",
        "fig.show()\n"
      ],
      "metadata": {
        "colab": {
          "base_uri": "https://localhost:8080/",
          "height": 542
        },
        "id": "EBZXaRGODBSP",
        "outputId": "a73b9286-455c-4c35-b4e3-1c0ed0b7a23e"
      },
      "execution_count": 5,
      "outputs": [
        {
          "output_type": "display_data",
          "data": {
            "text/html": [
              "<html>\n",
              "<head><meta charset=\"utf-8\" /></head>\n",
              "<body>\n",
              "    <div>            <script src=\"https://cdnjs.cloudflare.com/ajax/libs/mathjax/2.7.5/MathJax.js?config=TeX-AMS-MML_SVG\"></script><script type=\"text/javascript\">if (window.MathJax && window.MathJax.Hub && window.MathJax.Hub.Config) {window.MathJax.Hub.Config({SVG: {font: \"STIX-Web\"}});}</script>                <script type=\"text/javascript\">window.PlotlyConfig = {MathJaxConfig: 'local'};</script>\n",
              "        <script charset=\"utf-8\" src=\"https://cdn.plot.ly/plotly-2.35.2.min.js\"></script>                <div id=\"a9ed01b7-8980-48a2-adbe-1ae25c48890c\" class=\"plotly-graph-div\" style=\"height:525px; width:100%;\"></div>            <script type=\"text/javascript\">                                    window.PLOTLYENV=window.PLOTLYENV || {};                                    if (document.getElementById(\"a9ed01b7-8980-48a2-adbe-1ae25c48890c\")) {                    Plotly.newPlot(                        \"a9ed01b7-8980-48a2-adbe-1ae25c48890c\",                        [{\"alignmentgroup\":\"True\",\"hovertemplate\":\"Category=%{x}\\u003cbr\\u003eValue=%{y}\\u003cextra\\u003e\\u003c\\u002fextra\\u003e\",\"legendgroup\":\"\",\"marker\":{\"color\":\"#636efa\",\"pattern\":{\"shape\":\"\"}},\"name\":\"\",\"offsetgroup\":\"\",\"orientation\":\"v\",\"showlegend\":false,\"textposition\":\"auto\",\"x\":[\"A\",\"B\",\"C\",\"D\",\"E\"],\"xaxis\":\"x\",\"y\":[10,15,7,12,5],\"yaxis\":\"y\",\"type\":\"bar\"}],                        {\"template\":{\"data\":{\"histogram2dcontour\":[{\"type\":\"histogram2dcontour\",\"colorbar\":{\"outlinewidth\":0,\"ticks\":\"\"},\"colorscale\":[[0.0,\"#0d0887\"],[0.1111111111111111,\"#46039f\"],[0.2222222222222222,\"#7201a8\"],[0.3333333333333333,\"#9c179e\"],[0.4444444444444444,\"#bd3786\"],[0.5555555555555556,\"#d8576b\"],[0.6666666666666666,\"#ed7953\"],[0.7777777777777778,\"#fb9f3a\"],[0.8888888888888888,\"#fdca26\"],[1.0,\"#f0f921\"]]}],\"choropleth\":[{\"type\":\"choropleth\",\"colorbar\":{\"outlinewidth\":0,\"ticks\":\"\"}}],\"histogram2d\":[{\"type\":\"histogram2d\",\"colorbar\":{\"outlinewidth\":0,\"ticks\":\"\"},\"colorscale\":[[0.0,\"#0d0887\"],[0.1111111111111111,\"#46039f\"],[0.2222222222222222,\"#7201a8\"],[0.3333333333333333,\"#9c179e\"],[0.4444444444444444,\"#bd3786\"],[0.5555555555555556,\"#d8576b\"],[0.6666666666666666,\"#ed7953\"],[0.7777777777777778,\"#fb9f3a\"],[0.8888888888888888,\"#fdca26\"],[1.0,\"#f0f921\"]]}],\"heatmap\":[{\"type\":\"heatmap\",\"colorbar\":{\"outlinewidth\":0,\"ticks\":\"\"},\"colorscale\":[[0.0,\"#0d0887\"],[0.1111111111111111,\"#46039f\"],[0.2222222222222222,\"#7201a8\"],[0.3333333333333333,\"#9c179e\"],[0.4444444444444444,\"#bd3786\"],[0.5555555555555556,\"#d8576b\"],[0.6666666666666666,\"#ed7953\"],[0.7777777777777778,\"#fb9f3a\"],[0.8888888888888888,\"#fdca26\"],[1.0,\"#f0f921\"]]}],\"heatmapgl\":[{\"type\":\"heatmapgl\",\"colorbar\":{\"outlinewidth\":0,\"ticks\":\"\"},\"colorscale\":[[0.0,\"#0d0887\"],[0.1111111111111111,\"#46039f\"],[0.2222222222222222,\"#7201a8\"],[0.3333333333333333,\"#9c179e\"],[0.4444444444444444,\"#bd3786\"],[0.5555555555555556,\"#d8576b\"],[0.6666666666666666,\"#ed7953\"],[0.7777777777777778,\"#fb9f3a\"],[0.8888888888888888,\"#fdca26\"],[1.0,\"#f0f921\"]]}],\"contourcarpet\":[{\"type\":\"contourcarpet\",\"colorbar\":{\"outlinewidth\":0,\"ticks\":\"\"}}],\"contour\":[{\"type\":\"contour\",\"colorbar\":{\"outlinewidth\":0,\"ticks\":\"\"},\"colorscale\":[[0.0,\"#0d0887\"],[0.1111111111111111,\"#46039f\"],[0.2222222222222222,\"#7201a8\"],[0.3333333333333333,\"#9c179e\"],[0.4444444444444444,\"#bd3786\"],[0.5555555555555556,\"#d8576b\"],[0.6666666666666666,\"#ed7953\"],[0.7777777777777778,\"#fb9f3a\"],[0.8888888888888888,\"#fdca26\"],[1.0,\"#f0f921\"]]}],\"surface\":[{\"type\":\"surface\",\"colorbar\":{\"outlinewidth\":0,\"ticks\":\"\"},\"colorscale\":[[0.0,\"#0d0887\"],[0.1111111111111111,\"#46039f\"],[0.2222222222222222,\"#7201a8\"],[0.3333333333333333,\"#9c179e\"],[0.4444444444444444,\"#bd3786\"],[0.5555555555555556,\"#d8576b\"],[0.6666666666666666,\"#ed7953\"],[0.7777777777777778,\"#fb9f3a\"],[0.8888888888888888,\"#fdca26\"],[1.0,\"#f0f921\"]]}],\"mesh3d\":[{\"type\":\"mesh3d\",\"colorbar\":{\"outlinewidth\":0,\"ticks\":\"\"}}],\"scatter\":[{\"fillpattern\":{\"fillmode\":\"overlay\",\"size\":10,\"solidity\":0.2},\"type\":\"scatter\"}],\"parcoords\":[{\"type\":\"parcoords\",\"line\":{\"colorbar\":{\"outlinewidth\":0,\"ticks\":\"\"}}}],\"scatterpolargl\":[{\"type\":\"scatterpolargl\",\"marker\":{\"colorbar\":{\"outlinewidth\":0,\"ticks\":\"\"}}}],\"bar\":[{\"error_x\":{\"color\":\"#2a3f5f\"},\"error_y\":{\"color\":\"#2a3f5f\"},\"marker\":{\"line\":{\"color\":\"#E5ECF6\",\"width\":0.5},\"pattern\":{\"fillmode\":\"overlay\",\"size\":10,\"solidity\":0.2}},\"type\":\"bar\"}],\"scattergeo\":[{\"type\":\"scattergeo\",\"marker\":{\"colorbar\":{\"outlinewidth\":0,\"ticks\":\"\"}}}],\"scatterpolar\":[{\"type\":\"scatterpolar\",\"marker\":{\"colorbar\":{\"outlinewidth\":0,\"ticks\":\"\"}}}],\"histogram\":[{\"marker\":{\"pattern\":{\"fillmode\":\"overlay\",\"size\":10,\"solidity\":0.2}},\"type\":\"histogram\"}],\"scattergl\":[{\"type\":\"scattergl\",\"marker\":{\"colorbar\":{\"outlinewidth\":0,\"ticks\":\"\"}}}],\"scatter3d\":[{\"type\":\"scatter3d\",\"line\":{\"colorbar\":{\"outlinewidth\":0,\"ticks\":\"\"}},\"marker\":{\"colorbar\":{\"outlinewidth\":0,\"ticks\":\"\"}}}],\"scattermapbox\":[{\"type\":\"scattermapbox\",\"marker\":{\"colorbar\":{\"outlinewidth\":0,\"ticks\":\"\"}}}],\"scatterternary\":[{\"type\":\"scatterternary\",\"marker\":{\"colorbar\":{\"outlinewidth\":0,\"ticks\":\"\"}}}],\"scattercarpet\":[{\"type\":\"scattercarpet\",\"marker\":{\"colorbar\":{\"outlinewidth\":0,\"ticks\":\"\"}}}],\"carpet\":[{\"aaxis\":{\"endlinecolor\":\"#2a3f5f\",\"gridcolor\":\"white\",\"linecolor\":\"white\",\"minorgridcolor\":\"white\",\"startlinecolor\":\"#2a3f5f\"},\"baxis\":{\"endlinecolor\":\"#2a3f5f\",\"gridcolor\":\"white\",\"linecolor\":\"white\",\"minorgridcolor\":\"white\",\"startlinecolor\":\"#2a3f5f\"},\"type\":\"carpet\"}],\"table\":[{\"cells\":{\"fill\":{\"color\":\"#EBF0F8\"},\"line\":{\"color\":\"white\"}},\"header\":{\"fill\":{\"color\":\"#C8D4E3\"},\"line\":{\"color\":\"white\"}},\"type\":\"table\"}],\"barpolar\":[{\"marker\":{\"line\":{\"color\":\"#E5ECF6\",\"width\":0.5},\"pattern\":{\"fillmode\":\"overlay\",\"size\":10,\"solidity\":0.2}},\"type\":\"barpolar\"}],\"pie\":[{\"automargin\":true,\"type\":\"pie\"}]},\"layout\":{\"autotypenumbers\":\"strict\",\"colorway\":[\"#636efa\",\"#EF553B\",\"#00cc96\",\"#ab63fa\",\"#FFA15A\",\"#19d3f3\",\"#FF6692\",\"#B6E880\",\"#FF97FF\",\"#FECB52\"],\"font\":{\"color\":\"#2a3f5f\"},\"hovermode\":\"closest\",\"hoverlabel\":{\"align\":\"left\"},\"paper_bgcolor\":\"white\",\"plot_bgcolor\":\"#E5ECF6\",\"polar\":{\"bgcolor\":\"#E5ECF6\",\"angularaxis\":{\"gridcolor\":\"white\",\"linecolor\":\"white\",\"ticks\":\"\"},\"radialaxis\":{\"gridcolor\":\"white\",\"linecolor\":\"white\",\"ticks\":\"\"}},\"ternary\":{\"bgcolor\":\"#E5ECF6\",\"aaxis\":{\"gridcolor\":\"white\",\"linecolor\":\"white\",\"ticks\":\"\"},\"baxis\":{\"gridcolor\":\"white\",\"linecolor\":\"white\",\"ticks\":\"\"},\"caxis\":{\"gridcolor\":\"white\",\"linecolor\":\"white\",\"ticks\":\"\"}},\"coloraxis\":{\"colorbar\":{\"outlinewidth\":0,\"ticks\":\"\"}},\"colorscale\":{\"sequential\":[[0.0,\"#0d0887\"],[0.1111111111111111,\"#46039f\"],[0.2222222222222222,\"#7201a8\"],[0.3333333333333333,\"#9c179e\"],[0.4444444444444444,\"#bd3786\"],[0.5555555555555556,\"#d8576b\"],[0.6666666666666666,\"#ed7953\"],[0.7777777777777778,\"#fb9f3a\"],[0.8888888888888888,\"#fdca26\"],[1.0,\"#f0f921\"]],\"sequentialminus\":[[0.0,\"#0d0887\"],[0.1111111111111111,\"#46039f\"],[0.2222222222222222,\"#7201a8\"],[0.3333333333333333,\"#9c179e\"],[0.4444444444444444,\"#bd3786\"],[0.5555555555555556,\"#d8576b\"],[0.6666666666666666,\"#ed7953\"],[0.7777777777777778,\"#fb9f3a\"],[0.8888888888888888,\"#fdca26\"],[1.0,\"#f0f921\"]],\"diverging\":[[0,\"#8e0152\"],[0.1,\"#c51b7d\"],[0.2,\"#de77ae\"],[0.3,\"#f1b6da\"],[0.4,\"#fde0ef\"],[0.5,\"#f7f7f7\"],[0.6,\"#e6f5d0\"],[0.7,\"#b8e186\"],[0.8,\"#7fbc41\"],[0.9,\"#4d9221\"],[1,\"#276419\"]]},\"xaxis\":{\"gridcolor\":\"white\",\"linecolor\":\"white\",\"ticks\":\"\",\"title\":{\"standoff\":15},\"zerolinecolor\":\"white\",\"automargin\":true,\"zerolinewidth\":2},\"yaxis\":{\"gridcolor\":\"white\",\"linecolor\":\"white\",\"ticks\":\"\",\"title\":{\"standoff\":15},\"zerolinecolor\":\"white\",\"automargin\":true,\"zerolinewidth\":2},\"scene\":{\"xaxis\":{\"backgroundcolor\":\"#E5ECF6\",\"gridcolor\":\"white\",\"linecolor\":\"white\",\"showbackground\":true,\"ticks\":\"\",\"zerolinecolor\":\"white\",\"gridwidth\":2},\"yaxis\":{\"backgroundcolor\":\"#E5ECF6\",\"gridcolor\":\"white\",\"linecolor\":\"white\",\"showbackground\":true,\"ticks\":\"\",\"zerolinecolor\":\"white\",\"gridwidth\":2},\"zaxis\":{\"backgroundcolor\":\"#E5ECF6\",\"gridcolor\":\"white\",\"linecolor\":\"white\",\"showbackground\":true,\"ticks\":\"\",\"zerolinecolor\":\"white\",\"gridwidth\":2}},\"shapedefaults\":{\"line\":{\"color\":\"#2a3f5f\"}},\"annotationdefaults\":{\"arrowcolor\":\"#2a3f5f\",\"arrowhead\":0,\"arrowwidth\":1},\"geo\":{\"bgcolor\":\"white\",\"landcolor\":\"#E5ECF6\",\"subunitcolor\":\"white\",\"showland\":true,\"showlakes\":true,\"lakecolor\":\"white\"},\"title\":{\"x\":0.05},\"mapbox\":{\"style\":\"light\"}}},\"xaxis\":{\"anchor\":\"y\",\"domain\":[0.0,1.0],\"title\":{\"text\":\"Category\"}},\"yaxis\":{\"anchor\":\"x\",\"domain\":[0.0,1.0],\"title\":{\"text\":\"Value\"}},\"legend\":{\"tracegroupgap\":0},\"title\":{\"text\":\"Simple Bar Plot\"},\"barmode\":\"relative\"},                        {\"responsive\": true}                    ).then(function(){\n",
              "                            \n",
              "var gd = document.getElementById('a9ed01b7-8980-48a2-adbe-1ae25c48890c');\n",
              "var x = new MutationObserver(function (mutations, observer) {{\n",
              "        var display = window.getComputedStyle(gd).display;\n",
              "        if (!display || display === 'none') {{\n",
              "            console.log([gd, 'removed!']);\n",
              "            Plotly.purge(gd);\n",
              "            observer.disconnect();\n",
              "        }}\n",
              "}});\n",
              "\n",
              "// Listen for the removal of the full notebook cells\n",
              "var notebookContainer = gd.closest('#notebook-container');\n",
              "if (notebookContainer) {{\n",
              "    x.observe(notebookContainer, {childList: true});\n",
              "}}\n",
              "\n",
              "// Listen for the clearing of the current output cell\n",
              "var outputEl = gd.closest('.output');\n",
              "if (outputEl) {{\n",
              "    x.observe(outputEl, {childList: true});\n",
              "}}\n",
              "\n",
              "                        })                };                            </script>        </div>\n",
              "</body>\n",
              "</html>"
            ]
          },
          "metadata": {}
        }
      ]
    },
    {
      "cell_type": "markdown",
      "source": [
        "**6. Create a DataFrame and add a new column based on an existing column.**"
      ],
      "metadata": {
        "id": "kk7ZSHX4DP_I"
      }
    },
    {
      "cell_type": "code",
      "source": [
        "import pandas as pd\n",
        "\n",
        "data = {\n",
        "    'Name': ['Alice', 'Bob', 'Charlie', 'David', 'Eve'],\n",
        "    'Age': [24, 27, 22, 32, 29],\n",
        "    'Salary': [50000, 60000, 55000, 65000, 70000]\n",
        "}\n",
        "\n",
        "df = pd.DataFrame(data)\n",
        "\n",
        "df['Salary_with_bonus'] = df['Salary'] * 1.10\n",
        "\n",
        "print(df)\n"
      ],
      "metadata": {
        "colab": {
          "base_uri": "https://localhost:8080/"
        },
        "id": "tJRfJWulDVMt",
        "outputId": "6643ff0d-cc1f-4a55-c835-ceebacec2249"
      },
      "execution_count": 6,
      "outputs": [
        {
          "output_type": "stream",
          "name": "stdout",
          "text": [
            "      Name  Age  Salary  Salary_with_bonus\n",
            "0    Alice   24   50000            55000.0\n",
            "1      Bob   27   60000            66000.0\n",
            "2  Charlie   22   55000            60500.0\n",
            "3    David   32   65000            71500.0\n",
            "4      Eve   29   70000            77000.0\n"
          ]
        }
      ]
    },
    {
      "cell_type": "markdown",
      "source": [
        "**7. Write a program to perform element-wise multiplication of two NumPy arrays.**"
      ],
      "metadata": {
        "id": "JFb0_MmpDcZo"
      }
    },
    {
      "cell_type": "code",
      "source": [
        "import numpy as np\n",
        "\n",
        "array1 = np.array([1, 2, 3, 4, 5])\n",
        "array2 = np.array([5, 4, 3, 2, 1])\n",
        "\n",
        "result = array1 * array2\n",
        "\n",
        "print(\"Element-wise multiplication result:\", result)\n"
      ],
      "metadata": {
        "colab": {
          "base_uri": "https://localhost:8080/"
        },
        "id": "SJ5suG3JDlpJ",
        "outputId": "c50bdded-f5be-45f6-96fa-72bb39f3b497"
      },
      "execution_count": 7,
      "outputs": [
        {
          "output_type": "stream",
          "name": "stdout",
          "text": [
            "Element-wise multiplication result: [5 8 9 8 5]\n"
          ]
        }
      ]
    },
    {
      "cell_type": "markdown",
      "source": [
        "**8. Create a line plot with multiple lines using Matplotlib.**"
      ],
      "metadata": {
        "id": "76B2tu9dDp5N"
      }
    },
    {
      "cell_type": "code",
      "source": [
        "import matplotlib.pyplot as plt\n",
        "\n",
        "x = [1, 2, 3, 4, 5]\n",
        "y1 = [1, 4, 9, 16, 25]\n",
        "y2 = [1, 2, 3, 4, 5]\n",
        "y3 = [25, 20, 15, 10, 5]\n",
        "\n",
        "plt.plot(x, y1, label='y = x^2', color='blue', marker='o')\n",
        "plt.plot(x, y2, label='y = x', color='red', marker='s')\n",
        "plt.plot(x, y3, label='y = 25 - 5*x', color='green', marker='^')\n",
        "\n",
        "plt.xlabel('X-axis')\n",
        "plt.ylabel('Y-axis')\n",
        "plt.title('Multiple Line Plot')\n",
        "\n",
        "plt.legend()\n",
        "\n",
        "plt.show()\n"
      ],
      "metadata": {
        "colab": {
          "base_uri": "https://localhost:8080/",
          "height": 472
        },
        "id": "mhRg6IVRDzUN",
        "outputId": "7077e5aa-6f79-4cf4-c181-5a1fc7b315e1"
      },
      "execution_count": 8,
      "outputs": [
        {
          "output_type": "display_data",
          "data": {
            "text/plain": [
              "<Figure size 640x480 with 1 Axes>"
            ],
            "image/png": "[encoded data removed]"
          },
          "metadata": {}
        }
      ]
    },
    {
      "cell_type": "markdown",
      "source": [
        "**9. Generate a Pandas DataFrame and filter rows where a column value is greater than a threshold.**"
      ],
      "metadata": {
        "id": "qVNQ5ATkD9LS"
      }
    },
    {
      "cell_type": "code",
      "source": [
        "import pandas as pd\n",
        "\n",
        "data = {\n",
        "    'Name': ['Alice', 'Bob', 'Charlie', 'David', 'Eve'],\n",
        "    'Age': [24, 30, 22, 35, 28],\n",
        "    'Salary': [50000, 62000, 48000, 75000, 68000]\n",
        "}\n",
        "\n",
        "df = pd.DataFrame(data)\n",
        "\n",
        "threshold = 25\n",
        "filtered_df = df[df['Age'] > threshold]\n",
        "\n",
        "print(filtered_df)\n"
      ],
      "metadata": {
        "colab": {
          "base_uri": "https://localhost:8080/"
        },
        "id": "xvaKeCGmEEkX",
        "outputId": "be154492-df33-4708-c24d-19b13791057a"
      },
      "execution_count": 9,
      "outputs": [
        {
          "output_type": "stream",
          "name": "stdout",
          "text": [
            "    Name  Age  Salary\n",
            "1    Bob   30   62000\n",
            "3  David   35   75000\n",
            "4    Eve   28   68000\n"
          ]
        }
      ]
    },
    {
      "cell_type": "markdown",
      "source": [
        "**10. Create a histogram using Seaborn to visualize a distribution.**"
      ],
      "metadata": {
        "id": "SPpfBbIvEZez"
      }
    },
    {
      "cell_type": "code",
      "source": [
        "import seaborn as sns\n",
        "import matplotlib.pyplot as plt\n",
        "import pandas as pd\n",
        "\n",
        "data = {\n",
        "    'Age': [22, 25, 27, 25, 30, 32, 35, 30, 28, 29, 33, 31, 27, 26, 24]\n",
        "}\n",
        "df = pd.DataFrame(data)\n",
        "\n",
        "sns.histplot(data=df, x='Age', bins=6, kde=True, color='skyblue')\n",
        "\n",
        "plt.title('Distribution of Age')\n",
        "plt.xlabel('Age')\n",
        "plt.ylabel('Frequency')\n",
        "\n",
        "plt.show()\n"
      ],
      "metadata": {
        "colab": {
          "base_uri": "https://localhost:8080/",
          "height": 472
        },
        "id": "rOAWI0t2Eeis",
        "outputId": "1d9b4265-70d1-47a9-f6d5-fb2dfa79d0c7"
      },
      "execution_count": 10,
      "outputs": [
        {
          "output_type": "display_data",
          "data": {
            "text/plain": [
              "<Figure size 640x480 with 1 Axes>"
            ],
            "image/png": "[encoded data removed]"
          },
          "metadata": {}
        }
      ]
    },
    {
      "cell_type": "markdown",
      "source": [
        "**11. Perform matrix multiplication using NumPy.**"
      ],
      "metadata": {
        "id": "V3jPjnu_ElZL"
      }
    },
    {
      "cell_type": "code",
      "source": [
        "import numpy as np\n",
        "\n",
        "A = np.array([[1, 2],\n",
        "              [3, 4]])\n",
        "\n",
        "B = np.array([[5, 6],\n",
        "              [7, 8]])\n",
        "result = A @ B\n",
        "\n",
        "print(\"Matrix A:\\n\", A)\n",
        "print(\"Matrix B:\\n\", B)\n",
        "print(\"Matrix Multiplication Result:\\n\", result)\n"
      ],
      "metadata": {
        "colab": {
          "base_uri": "https://localhost:8080/"
        },
        "id": "IHuRQnVCEq62",
        "outputId": "3e8bcd85-9f90-4483-ce22-9cf79fd988f2"
      },
      "execution_count": 11,
      "outputs": [
        {
          "output_type": "stream",
          "name": "stdout",
          "text": [
            "Matrix A:\n",
            " [[1 2]\n",
            " [3 4]]\n",
            "Matrix B:\n",
            " [[5 6]\n",
            " [7 8]]\n",
            "Matrix Multiplication Result:\n",
            " [[19 22]\n",
            " [43 50]]\n"
          ]
        }
      ]
    },
    {
      "cell_type": "markdown",
      "source": [
        "**12. Use Pandas to load a CSV file and display its first 5 rows.**"
      ],
      "metadata": {
        "id": "POHXw-mMEx2C"
      }
    },
    {
      "cell_type": "code",
      "source": [
        "import pandas as pd\n",
        "\n",
        "# Step 1: Load the CSV file\n",
        "# Replace 'your_file.csv' with the actual path or filename\n",
        "df = pd.read_csv('your_file.csv')\n",
        "\n",
        "# Step 2: Display the first 5 rows\n",
        "print(df.head())\n"
      ],
      "metadata": {
        "id": "vY2rAGhwE3qk"
      },
      "execution_count": null,
      "outputs": []
    },
    {
      "cell_type": "markdown",
      "source": [
        "**13. Create a 3D scatter plot using Plotly.**"
      ],
      "metadata": {
        "id": "EkR527GKFlA4"
      }
    },
    {
      "cell_type": "code",
      "source": [
        "import plotly.graph_objects as go\n",
        "import numpy as np\n",
        "\n",
        "np.random.seed(42)\n",
        "x = np.random.randn(100)\n",
        "y = np.random.randn(100)\n",
        "z = np.random.randn(100)\n",
        "\n",
        "fig = go.Figure(data=[go.Scatter3d(\n",
        "    x=x,\n",
        "    y=y,\n",
        "    z=z,\n",
        "    mode='markers',\n",
        "    marker=dict(\n",
        "        size=5,\n",
        "        color=z,\n",
        "        colorscale='Viridis',\n",
        "        opacity=0.8\n",
        "    )\n",
        ")])\n",
        "\n",
        "fig.update_layout(\n",
        "    title='3D Scatter Plot',\n",
        "    scene=dict(\n",
        "        xaxis_title='X Axis',\n",
        "        yaxis_title='Y Axis',\n",
        "        zaxis_title='Z Axis'\n",
        "    )\n",
        ")\n",
        "\n",
        "fig.show()"
      ],
      "metadata": {
        "colab": {
          "base_uri": "https://localhost:8080/",
          "height": 542
        },
        "id": "odfYzUMVGldn",
        "outputId": "09188792-7a18-4417-d718-c74eb7d6b912"
      },
      "execution_count": 17,
      "outputs": [
        {
          "output_type": "display_data",
          "data": {
            "text/html": [
              "<html>\n",
              "<head><meta charset=\"utf-8\" /></head>\n",
              "<body>\n",
              "    <div>            <script src=\"https://cdnjs.cloudflare.com/ajax/libs/mathjax/2.7.5/MathJax.js?config=TeX-AMS-MML_SVG\"></script><script type=\"text/javascript\">if (window.MathJax && window.MathJax.Hub && window.MathJax.Hub.Config) {window.MathJax.Hub.Config({SVG: {font: \"STIX-Web\"}});}</script>                <script type=\"text/javascript\">window.PlotlyConfig = {MathJaxConfig: 'local'};</script>\n",
              "        <script charset=\"utf-8\" src=\"https://cdn.plot.ly/plotly-2.35.2.min.js\"></script>                <div id=\"0e844c87-e8b6-4a0a-877b-69972ad6f5b9\" class=\"plotly-graph-div\" style=\"height:525px; width:100%;\"></div>            <script type=\"text/javascript\">                                    window.PLOTLYENV=window.PLOTLYENV || {};                                    if (document.getElementById(\"0e844c87-e8b6-4a0a-877b-69972ad6f5b9\")) {                    Plotly.newPlot(                        \"0e844c87-e8b6-4a0a-877b-69972ad6f5b9\",                        [{\"marker\":{\"color\":[0.3577873603482833,0.5607845263682344,1.083051243175277,1.053802052034903,-1.377669367957091,-0.9378250399151228,0.5150352672086598,0.5137859509122088,0.5150476863060479,3.852731490654721,0.570890510693167,1.135565640180599,0.9540017634932023,0.651391251305798,-0.3152692446403456,0.7589692204932674,-0.7728252145375718,-0.23681860674000887,-0.48536354782910346,0.08187413938632256,2.3146585666735087,-1.867265192591748,0.6862601903745135,-1.6127158711896517,-0.47193186578943347,1.088950596967366,0.06428001909546277,-1.0777447779293061,-0.7153037092599682,0.6795977489346758,-0.7303666317171367,0.21645858958197486,0.045571839903813784,-0.6516003476058171,2.1439440893253257,0.6339190223180112,-2.025142586657607,0.18645431476942764,-0.661786464768388,0.852433334796224,-0.7925207384327007,-0.11473644146689901,0.5049872789804571,0.8657551941701215,-1.2002964070557762,-0.3345012358409484,-0.4749453111609562,-0.6533292325737119,1.7654542402810969,0.40498171096095553,-1.2608839543350452,0.9178619470547761,2.1221561970126332,1.0324652605511468,-1.5193699659540134,-0.48423407286625136,1.2669111491866227,-0.7076694656187807,0.44381942814622843,0.7746340534293368,-0.926930471578083,-0.05952535606180008,-3.2412673400690726,-1.0243876413342898,-0.2525681513931603,-1.2477831819648495,1.6324113039316352,-1.4301413779606327,-0.44004448669698376,0.13074057728609134,1.4412732890661155,-1.4358621511794394,1.1631637521549596,0.010233061019587049,-0.9815086510479509,0.46210347426327075,0.19905969557347003,-0.6002168771587947,0.06980208499001891,-0.3853135968617602,0.11351734525124804,0.6621306745210467,1.586016816145352,-1.237815498826849,2.1330333746562666,-1.9520877995225019,-0.15178509503558332,0.5883172064845765,0.28099186773503265,-0.6226995198205938,-0.20812225035727522,-0.4930009346588328,-0.5893647569442115,0.8496020970210246,0.35701548596504734,-0.6929095952606542,0.8995998754332507,0.30729952087660933,0.8128621188389601,0.6296288419236122],\"colorscale\":[[0.0,\"#440154\"],[0.1111111111111111,\"#482878\"],[0.2222222222222222,\"#3e4989\"],[0.3333333333333333,\"#31688e\"],[0.4444444444444444,\"#26828e\"],[0.5555555555555556,\"#1f9e89\"],[0.6666666666666666,\"#35b779\"],[0.7777777777777778,\"#6ece58\"],[0.8888888888888888,\"#b5de2b\"],[1.0,\"#fde725\"]],\"opacity\":0.8,\"size\":5},\"mode\":\"markers\",\"x\":[0.4967141530112327,-0.13826430117118466,0.6476885381006925,1.5230298564080254,-0.23415337472333597,-0.23413695694918055,1.5792128155073915,0.7674347291529088,-0.4694743859349521,0.5425600435859647,-0.46341769281246226,-0.46572975357025687,0.24196227156603412,-1.913280244657798,-1.7249178325130328,-0.5622875292409727,-1.0128311203344238,0.3142473325952739,-0.9080240755212109,-1.4123037013352915,1.465648768921554,-0.22577630048653566,0.06752820468792384,-1.4247481862134568,-0.5443827245251827,0.11092258970986608,-1.1509935774223028,0.37569801834567196,-0.600638689918805,-0.2916937497932768,-0.6017066122293969,1.8522781845089378,-0.013497224737933921,-1.0577109289559004,0.822544912103189,-1.2208436499710222,0.2088635950047554,-1.9596701238797756,-1.3281860488984305,0.19686123586912352,0.7384665799954104,0.1713682811899705,-0.11564828238824053,-0.3011036955892888,-1.4785219903674274,-0.7198442083947086,-0.4606387709597875,1.0571222262189157,0.3436182895684614,-1.763040155362734,0.324083969394795,-0.38508228041631654,-0.6769220003059587,0.6116762888408679,1.030999522495951,0.9312801191161986,-0.8392175232226385,-0.3092123758512146,0.33126343140356396,0.9755451271223592,-0.47917423784528995,-0.18565897666381712,-1.1063349740060282,-1.1962066240806708,0.812525822394198,1.356240028570823,-0.07201012158033385,1.0035328978920242,0.36163602504763415,-0.6451197546051243,0.36139560550841393,1.5380365664659692,-0.03582603910995154,1.5646436558140062,-2.6197451040897444,0.8219025043752238,0.08704706823817122,-0.29900735046586746,0.0917607765355023,-1.9875689146008928,-0.21967188783751193,0.3571125715117464,1.477894044741516,-0.5182702182736474,-0.8084936028931876,-0.5017570435845365,0.9154021177020741,0.32875110965968446,-0.5297602037670388,0.5132674331133561,0.09707754934804039,0.9686449905328892,-0.7020530938773524,-0.3276621465977682,-0.39210815313215763,-1.4635149481321186,0.29612027706457605,0.26105527217988933,0.00511345664246089,-0.23458713337514692],\"y\":[-1.4153707420504142,-0.42064532276535904,-0.3427145165267695,-0.8022772692216189,-0.16128571166600914,0.4040508568145384,1.8861859012105302,0.17457781283183896,0.25755039072276437,-0.07444591576616721,-1.9187712152990415,-0.026513875449216878,0.06023020994102644,2.463242112485286,-0.19236096478112252,0.30154734233361247,-0.03471176970524331,-1.168678037619532,1.1428228145150205,0.7519330326867741,0.7910319470430469,-0.9093874547947389,1.4027943109360992,-1.4018510627922809,0.5868570938002703,2.1904556258099785,-0.9905363251306883,-0.5662977296027719,0.09965136508764122,-0.5034756541161992,-1.5506634310661327,0.06856297480602733,-1.0623037137261049,0.4735924306351816,-0.9194242342338032,1.5499344050175394,-0.7832532923362371,-0.3220615162056756,0.8135172173696698,-1.2308643164339552,0.22745993460412942,1.307142754282428,-1.6074832345612275,0.1846338585323042,0.25988279424842353,0.7818228717773104,-1.236950710878082,-1.3204566130842763,0.5219415656168976,0.29698467323318606,0.25049285034587654,0.3464482094969757,-0.6800247215784908,0.23225369716100355,0.29307247329868125,-0.7143514180263678,1.8657745111447566,0.4738329209117875,-1.1913034972026486,0.6565536086338297,-0.9746816702273214,0.787084603742452,1.158595579007404,-0.8206823183517105,0.9633761292443218,0.4127809269364983,0.82206015999449,1.8967929826539474,-0.2453881160028705,-0.7537361643574896,-0.8895144296255233,-0.8158102849654383,-0.0771017094141042,0.3411519748166439,0.27669079933001905,0.8271832490360238,0.01300189187790702,1.4535340771573169,-0.2646568332379561,2.720169166589619,0.6256673477650062,-0.8571575564162826,-1.0708924980611123,0.4824724152431853,-0.2234627853258509,0.714000494092092,0.47323762457354485,-0.07282891265687277,-0.846793718068405,-1.5148472246858646,-0.4465149520670211,0.8563987943234723,0.21409374413020396,-1.245738778711988,0.173180925851182,0.3853173797288368,-0.883857436201133,0.1537251059455279,0.058208718445999896,-1.142970297830623],\"z\":[0.3577873603482833,0.5607845263682344,1.083051243175277,1.053802052034903,-1.377669367957091,-0.9378250399151228,0.5150352672086598,0.5137859509122088,0.5150476863060479,3.852731490654721,0.570890510693167,1.135565640180599,0.9540017634932023,0.651391251305798,-0.3152692446403456,0.7589692204932674,-0.7728252145375718,-0.23681860674000887,-0.48536354782910346,0.08187413938632256,2.3146585666735087,-1.867265192591748,0.6862601903745135,-1.6127158711896517,-0.47193186578943347,1.088950596967366,0.06428001909546277,-1.0777447779293061,-0.7153037092599682,0.6795977489346758,-0.7303666317171367,0.21645858958197486,0.045571839903813784,-0.6516003476058171,2.1439440893253257,0.6339190223180112,-2.025142586657607,0.18645431476942764,-0.661786464768388,0.852433334796224,-0.7925207384327007,-0.11473644146689901,0.5049872789804571,0.8657551941701215,-1.2002964070557762,-0.3345012358409484,-0.4749453111609562,-0.6533292325737119,1.7654542402810969,0.40498171096095553,-1.2608839543350452,0.9178619470547761,2.1221561970126332,1.0324652605511468,-1.5193699659540134,-0.48423407286625136,1.2669111491866227,-0.7076694656187807,0.44381942814622843,0.7746340534293368,-0.926930471578083,-0.05952535606180008,-3.2412673400690726,-1.0243876413342898,-0.2525681513931603,-1.2477831819648495,1.6324113039316352,-1.4301413779606327,-0.44004448669698376,0.13074057728609134,1.4412732890661155,-1.4358621511794394,1.1631637521549596,0.010233061019587049,-0.9815086510479509,0.46210347426327075,0.19905969557347003,-0.6002168771587947,0.06980208499001891,-0.3853135968617602,0.11351734525124804,0.6621306745210467,1.586016816145352,-1.237815498826849,2.1330333746562666,-1.9520877995225019,-0.15178509503558332,0.5883172064845765,0.28099186773503265,-0.6226995198205938,-0.20812225035727522,-0.4930009346588328,-0.5893647569442115,0.8496020970210246,0.35701548596504734,-0.6929095952606542,0.8995998754332507,0.30729952087660933,0.8128621188389601,0.6296288419236122],\"type\":\"scatter3d\"}],                        {\"template\":{\"data\":{\"histogram2dcontour\":[{\"type\":\"histogram2dcontour\",\"colorbar\":{\"outlinewidth\":0,\"ticks\":\"\"},\"colorscale\":[[0.0,\"#0d0887\"],[0.1111111111111111,\"#46039f\"],[0.2222222222222222,\"#7201a8\"],[0.3333333333333333,\"#9c179e\"],[0.4444444444444444,\"#bd3786\"],[0.5555555555555556,\"#d8576b\"],[0.6666666666666666,\"#ed7953\"],[0.7777777777777778,\"#fb9f3a\"],[0.8888888888888888,\"#fdca26\"],[1.0,\"#f0f921\"]]}],\"choropleth\":[{\"type\":\"choropleth\",\"colorbar\":{\"outlinewidth\":0,\"ticks\":\"\"}}],\"histogram2d\":[{\"type\":\"histogram2d\",\"colorbar\":{\"outlinewidth\":0,\"ticks\":\"\"},\"colorscale\":[[0.0,\"#0d0887\"],[0.1111111111111111,\"#46039f\"],[0.2222222222222222,\"#7201a8\"],[0.3333333333333333,\"#9c179e\"],[0.4444444444444444,\"#bd3786\"],[0.5555555555555556,\"#d8576b\"],[0.6666666666666666,\"#ed7953\"],[0.7777777777777778,\"#fb9f3a\"],[0.8888888888888888,\"#fdca26\"],[1.0,\"#f0f921\"]]}],\"heatmap\":[{\"type\":\"heatmap\",\"colorbar\":{\"outlinewidth\":0,\"ticks\":\"\"},\"colorscale\":[[0.0,\"#0d0887\"],[0.1111111111111111,\"#46039f\"],[0.2222222222222222,\"#7201a8\"],[0.3333333333333333,\"#9c179e\"],[0.4444444444444444,\"#bd3786\"],[0.5555555555555556,\"#d8576b\"],[0.6666666666666666,\"#ed7953\"],[0.7777777777777778,\"#fb9f3a\"],[0.8888888888888888,\"#fdca26\"],[1.0,\"#f0f921\"]]}],\"heatmapgl\":[{\"type\":\"heatmapgl\",\"colorbar\":{\"outlinewidth\":0,\"ticks\":\"\"},\"colorscale\":[[0.0,\"#0d0887\"],[0.1111111111111111,\"#46039f\"],[0.2222222222222222,\"#7201a8\"],[0.3333333333333333,\"#9c179e\"],[0.4444444444444444,\"#bd3786\"],[0.5555555555555556,\"#d8576b\"],[0.6666666666666666,\"#ed7953\"],[0.7777777777777778,\"#fb9f3a\"],[0.8888888888888888,\"#fdca26\"],[1.0,\"#f0f921\"]]}],\"contourcarpet\":[{\"type\":\"contourcarpet\",\"colorbar\":{\"outlinewidth\":0,\"ticks\":\"\"}}],\"contour\":[{\"type\":\"contour\",\"colorbar\":{\"outlinewidth\":0,\"ticks\":\"\"},\"colorscale\":[[0.0,\"#0d0887\"],[0.1111111111111111,\"#46039f\"],[0.2222222222222222,\"#7201a8\"],[0.3333333333333333,\"#9c179e\"],[0.4444444444444444,\"#bd3786\"],[0.5555555555555556,\"#d8576b\"],[0.6666666666666666,\"#ed7953\"],[0.7777777777777778,\"#fb9f3a\"],[0.8888888888888888,\"#fdca26\"],[1.0,\"#f0f921\"]]}],\"surface\":[{\"type\":\"surface\",\"colorbar\":{\"outlinewidth\":0,\"ticks\":\"\"},\"colorscale\":[[0.0,\"#0d0887\"],[0.1111111111111111,\"#46039f\"],[0.2222222222222222,\"#7201a8\"],[0.3333333333333333,\"#9c179e\"],[0.4444444444444444,\"#bd3786\"],[0.5555555555555556,\"#d8576b\"],[0.6666666666666666,\"#ed7953\"],[0.7777777777777778,\"#fb9f3a\"],[0.8888888888888888,\"#fdca26\"],[1.0,\"#f0f921\"]]}],\"mesh3d\":[{\"type\":\"mesh3d\",\"colorbar\":{\"outlinewidth\":0,\"ticks\":\"\"}}],\"scatter\":[{\"fillpattern\":{\"fillmode\":\"overlay\",\"size\":10,\"solidity\":0.2},\"type\":\"scatter\"}],\"parcoords\":[{\"type\":\"parcoords\",\"line\":{\"colorbar\":{\"outlinewidth\":0,\"ticks\":\"\"}}}],\"scatterpolargl\":[{\"type\":\"scatterpolargl\",\"marker\":{\"colorbar\":{\"outlinewidth\":0,\"ticks\":\"\"}}}],\"bar\":[{\"error_x\":{\"color\":\"#2a3f5f\"},\"error_y\":{\"color\":\"#2a3f5f\"},\"marker\":{\"line\":{\"color\":\"#E5ECF6\",\"width\":0.5},\"pattern\":{\"fillmode\":\"overlay\",\"size\":10,\"solidity\":0.2}},\"type\":\"bar\"}],\"scattergeo\":[{\"type\":\"scattergeo\",\"marker\":{\"colorbar\":{\"outlinewidth\":0,\"ticks\":\"\"}}}],\"scatterpolar\":[{\"type\":\"scatterpolar\",\"marker\":{\"colorbar\":{\"outlinewidth\":0,\"ticks\":\"\"}}}],\"histogram\":[{\"marker\":{\"pattern\":{\"fillmode\":\"overlay\",\"size\":10,\"solidity\":0.2}},\"type\":\"histogram\"}],\"scattergl\":[{\"type\":\"scattergl\",\"marker\":{\"colorbar\":{\"outlinewidth\":0,\"ticks\":\"\"}}}],\"scatter3d\":[{\"type\":\"scatter3d\",\"line\":{\"colorbar\":{\"outlinewidth\":0,\"ticks\":\"\"}},\"marker\":{\"colorbar\":{\"outlinewidth\":0,\"ticks\":\"\"}}}],\"scattermapbox\":[{\"type\":\"scattermapbox\",\"marker\":{\"colorbar\":{\"outlinewidth\":0,\"ticks\":\"\"}}}],\"scatterternary\":[{\"type\":\"scatterternary\",\"marker\":{\"colorbar\":{\"outlinewidth\":0,\"ticks\":\"\"}}}],\"scattercarpet\":[{\"type\":\"scattercarpet\",\"marker\":{\"colorbar\":{\"outlinewidth\":0,\"ticks\":\"\"}}}],\"carpet\":[{\"aaxis\":{\"endlinecolor\":\"#2a3f5f\",\"gridcolor\":\"white\",\"linecolor\":\"white\",\"minorgridcolor\":\"white\",\"startlinecolor\":\"#2a3f5f\"},\"baxis\":{\"endlinecolor\":\"#2a3f5f\",\"gridcolor\":\"white\",\"linecolor\":\"white\",\"minorgridcolor\":\"white\",\"startlinecolor\":\"#2a3f5f\"},\"type\":\"carpet\"}],\"table\":[{\"cells\":{\"fill\":{\"color\":\"#EBF0F8\"},\"line\":{\"color\":\"white\"}},\"header\":{\"fill\":{\"color\":\"#C8D4E3\"},\"line\":{\"color\":\"white\"}},\"type\":\"table\"}],\"barpolar\":[{\"marker\":{\"line\":{\"color\":\"#E5ECF6\",\"width\":0.5},\"pattern\":{\"fillmode\":\"overlay\",\"size\":10,\"solidity\":0.2}},\"type\":\"barpolar\"}],\"pie\":[{\"automargin\":true,\"type\":\"pie\"}]},\"layout\":{\"autotypenumbers\":\"strict\",\"colorway\":[\"#636efa\",\"#EF553B\",\"#00cc96\",\"#ab63fa\",\"#FFA15A\",\"#19d3f3\",\"#FF6692\",\"#B6E880\",\"#FF97FF\",\"#FECB52\"],\"font\":{\"color\":\"#2a3f5f\"},\"hovermode\":\"closest\",\"hoverlabel\":{\"align\":\"left\"},\"paper_bgcolor\":\"white\",\"plot_bgcolor\":\"#E5ECF6\",\"polar\":{\"bgcolor\":\"#E5ECF6\",\"angularaxis\":{\"gridcolor\":\"white\",\"linecolor\":\"white\",\"ticks\":\"\"},\"radialaxis\":{\"gridcolor\":\"white\",\"linecolor\":\"white\",\"ticks\":\"\"}},\"ternary\":{\"bgcolor\":\"#E5ECF6\",\"aaxis\":{\"gridcolor\":\"white\",\"linecolor\":\"white\",\"ticks\":\"\"},\"baxis\":{\"gridcolor\":\"white\",\"linecolor\":\"white\",\"ticks\":\"\"},\"caxis\":{\"gridcolor\":\"white\",\"linecolor\":\"white\",\"ticks\":\"\"}},\"coloraxis\":{\"colorbar\":{\"outlinewidth\":0,\"ticks\":\"\"}},\"colorscale\":{\"sequential\":[[0.0,\"#0d0887\"],[0.1111111111111111,\"#46039f\"],[0.2222222222222222,\"#7201a8\"],[0.3333333333333333,\"#9c179e\"],[0.4444444444444444,\"#bd3786\"],[0.5555555555555556,\"#d8576b\"],[0.6666666666666666,\"#ed7953\"],[0.7777777777777778,\"#fb9f3a\"],[0.8888888888888888,\"#fdca26\"],[1.0,\"#f0f921\"]],\"sequentialminus\":[[0.0,\"#0d0887\"],[0.1111111111111111,\"#46039f\"],[0.2222222222222222,\"#7201a8\"],[0.3333333333333333,\"#9c179e\"],[0.4444444444444444,\"#bd3786\"],[0.5555555555555556,\"#d8576b\"],[0.6666666666666666,\"#ed7953\"],[0.7777777777777778,\"#fb9f3a\"],[0.8888888888888888,\"#fdca26\"],[1.0,\"#f0f921\"]],\"diverging\":[[0,\"#8e0152\"],[0.1,\"#c51b7d\"],[0.2,\"#de77ae\"],[0.3,\"#f1b6da\"],[0.4,\"#fde0ef\"],[0.5,\"#f7f7f7\"],[0.6,\"#e6f5d0\"],[0.7,\"#b8e186\"],[0.8,\"#7fbc41\"],[0.9,\"#4d9221\"],[1,\"#276419\"]]},\"xaxis\":{\"gridcolor\":\"white\",\"linecolor\":\"white\",\"ticks\":\"\",\"title\":{\"standoff\":15},\"zerolinecolor\":\"white\",\"automargin\":true,\"zerolinewidth\":2},\"yaxis\":{\"gridcolor\":\"white\",\"linecolor\":\"white\",\"ticks\":\"\",\"title\":{\"standoff\":15},\"zerolinecolor\":\"white\",\"automargin\":true,\"zerolinewidth\":2},\"scene\":{\"xaxis\":{\"backgroundcolor\":\"#E5ECF6\",\"gridcolor\":\"white\",\"linecolor\":\"white\",\"showbackground\":true,\"ticks\":\"\",\"zerolinecolor\":\"white\",\"gridwidth\":2},\"yaxis\":{\"backgroundcolor\":\"#E5ECF6\",\"gridcolor\":\"white\",\"linecolor\":\"white\",\"showbackground\":true,\"ticks\":\"\",\"zerolinecolor\":\"white\",\"gridwidth\":2},\"zaxis\":{\"backgroundcolor\":\"#E5ECF6\",\"gridcolor\":\"white\",\"linecolor\":\"white\",\"showbackground\":true,\"ticks\":\"\",\"zerolinecolor\":\"white\",\"gridwidth\":2}},\"shapedefaults\":{\"line\":{\"color\":\"#2a3f5f\"}},\"annotationdefaults\":{\"arrowcolor\":\"#2a3f5f\",\"arrowhead\":0,\"arrowwidth\":1},\"geo\":{\"bgcolor\":\"white\",\"landcolor\":\"#E5ECF6\",\"subunitcolor\":\"white\",\"showland\":true,\"showlakes\":true,\"lakecolor\":\"white\"},\"title\":{\"x\":0.05},\"mapbox\":{\"style\":\"light\"}}},\"title\":{\"text\":\"3D Scatter Plot\"},\"scene\":{\"xaxis\":{\"title\":{\"text\":\"X Axis\"}},\"yaxis\":{\"title\":{\"text\":\"Y Axis\"}},\"zaxis\":{\"title\":{\"text\":\"Z Axis\"}}}},                        {\"responsive\": true}                    ).then(function(){\n",
              "                            \n",
              "var gd = document.getElementById('0e844c87-e8b6-4a0a-877b-69972ad6f5b9');\n",
              "var x = new MutationObserver(function (mutations, observer) {{\n",
              "        var display = window.getComputedStyle(gd).display;\n",
              "        if (!display || display === 'none') {{\n",
              "            console.log([gd, 'removed!']);\n",
              "            Plotly.purge(gd);\n",
              "            observer.disconnect();\n",
              "        }}\n",
              "}});\n",
              "\n",
              "// Listen for the removal of the full notebook cells\n",
              "var notebookContainer = gd.closest('#notebook-container');\n",
              "if (notebookContainer) {{\n",
              "    x.observe(notebookContainer, {childList: true});\n",
              "}}\n",
              "\n",
              "// Listen for the clearing of the current output cell\n",
              "var outputEl = gd.closest('.output');\n",
              "if (outputEl) {{\n",
              "    x.observe(outputEl, {childList: true});\n",
              "}}\n",
              "\n",
              "                        })                };                            </script>        </div>\n",
              "</body>\n",
              "</html>"
            ]
          },
          "metadata": {}
        }
      ]
    }
  ]
}